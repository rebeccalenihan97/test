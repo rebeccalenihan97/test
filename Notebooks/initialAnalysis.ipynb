{
 "cells": [
  {
   "cell_type": "code",
   "execution_count": 1,
   "metadata": {},
   "outputs": [],
   "source": [
    "import pandas as pd\n",
    "import json\n",
    "import re\n",
    "import numpy as np\n",
    "import ast"
   ]
  },
  {
   "cell_type": "code",
   "execution_count": 2,
   "metadata": {},
   "outputs": [],
   "source": [
    "with open('derived_disorder.mjson') as json_file:      \n",
    "    data = json_file.readlines()\n",
    "    data = list(map(json.loads, data)) \n",
    "\n",
    "df = pd.DataFrame(data)"
   ]
  },
  {
   "cell_type": "code",
   "execution_count": 3,
   "metadata": {},
   "outputs": [
    {
     "data": {
      "text/html": [
       "<div>\n",
       "<style scoped>\n",
       "    .dataframe tbody tr th:only-of-type {\n",
       "        vertical-align: middle;\n",
       "    }\n",
       "\n",
       "    .dataframe tbody tr th {\n",
       "        vertical-align: top;\n",
       "    }\n",
       "\n",
       "    .dataframe thead th {\n",
       "        text-align: right;\n",
       "    }\n",
       "</style>\n",
       "<table border=\"1\" class=\"dataframe\">\n",
       "  <thead>\n",
       "    <tr style=\"text-align: right;\">\n",
       "      <th></th>\n",
       "      <th>acc</th>\n",
       "      <th>sequence</th>\n",
       "      <th>ncbi_taxon_id</th>\n",
       "      <th>organism</th>\n",
       "      <th>mobidb_consensus</th>\n",
       "    </tr>\n",
       "  </thead>\n",
       "  <tbody>\n",
       "    <tr>\n",
       "      <td>0</td>\n",
       "      <td>P31994</td>\n",
       "      <td>MGILSFLPVLATESDWADCKSPQPWGHMLLWTAVLFLAPVAGTPAA...</td>\n",
       "      <td>9606</td>\n",
       "      <td>Homo sapiens (Human)</td>\n",
       "      <td>{'disorder': {'derived': [{'regions': [[46, 46...</td>\n",
       "    </tr>\n",
       "    <tr>\n",
       "      <td>1</td>\n",
       "      <td>F2Z602</td>\n",
       "      <td>MGKGKPRGLNSARKLRVHRRNNRWAETTYKKRLLGTAFKSSPFGGS...</td>\n",
       "      <td>284590</td>\n",
       "      <td>Kluyveromyces lactis (strain ATCC 8585 / CBS 2...</td>\n",
       "      <td>{'disorder': {'derived': [{'regions': [[2, 143...</td>\n",
       "    </tr>\n",
       "    <tr>\n",
       "      <td>2</td>\n",
       "      <td>Q875M3</td>\n",
       "      <td>MGKGKPRGLNSARKLRVHRRNNRWAETTYKKRLLGTAFKSSPFGGS...</td>\n",
       "      <td>28985</td>\n",
       "      <td>Kluyveromyces lactis (Yeast) (Candida sphaerica)</td>\n",
       "      <td>{'disorder': {'derived': [{'regions': [[1, 145...</td>\n",
       "    </tr>\n",
       "    <tr>\n",
       "      <td>3</td>\n",
       "      <td>Q86A17</td>\n",
       "      <td>MSKNILVLGGSGALGAEVVKFFKSKSWNTISIDFRENPNADHSFTI...</td>\n",
       "      <td>44689</td>\n",
       "      <td>Dictyostelium discoideum (Slime mold)</td>\n",
       "      <td>{'disorder': {'derived': [{'regions': [[2, 2, ...</td>\n",
       "    </tr>\n",
       "    <tr>\n",
       "      <td>4</td>\n",
       "      <td>P10855</td>\n",
       "      <td>MKVSTTALAVLLCTMTLCNQVFSAPYGADTPTACCFSYSRKIPRQF...</td>\n",
       "      <td>10090</td>\n",
       "      <td>Mus musculus (Mouse)</td>\n",
       "      <td>{'disorder': {'derived': [{'regions': [[30, 91...</td>\n",
       "    </tr>\n",
       "  </tbody>\n",
       "</table>\n",
       "</div>"
      ],
      "text/plain": [
       "      acc                                           sequence  ncbi_taxon_id  \\\n",
       "0  P31994  MGILSFLPVLATESDWADCKSPQPWGHMLLWTAVLFLAPVAGTPAA...           9606   \n",
       "1  F2Z602  MGKGKPRGLNSARKLRVHRRNNRWAETTYKKRLLGTAFKSSPFGGS...         284590   \n",
       "2  Q875M3  MGKGKPRGLNSARKLRVHRRNNRWAETTYKKRLLGTAFKSSPFGGS...          28985   \n",
       "3  Q86A17  MSKNILVLGGSGALGAEVVKFFKSKSWNTISIDFRENPNADHSFTI...          44689   \n",
       "4  P10855  MKVSTTALAVLLCTMTLCNQVFSAPYGADTPTACCFSYSRKIPRQF...          10090   \n",
       "\n",
       "                                            organism  \\\n",
       "0                               Homo sapiens (Human)   \n",
       "1  Kluyveromyces lactis (strain ATCC 8585 / CBS 2...   \n",
       "2   Kluyveromyces lactis (Yeast) (Candida sphaerica)   \n",
       "3              Dictyostelium discoideum (Slime mold)   \n",
       "4                               Mus musculus (Mouse)   \n",
       "\n",
       "                                    mobidb_consensus  \n",
       "0  {'disorder': {'derived': [{'regions': [[46, 46...  \n",
       "1  {'disorder': {'derived': [{'regions': [[2, 143...  \n",
       "2  {'disorder': {'derived': [{'regions': [[1, 145...  \n",
       "3  {'disorder': {'derived': [{'regions': [[2, 2, ...  \n",
       "4  {'disorder': {'derived': [{'regions': [[30, 91...  "
      ]
     },
     "execution_count": 3,
     "metadata": {},
     "output_type": "execute_result"
    }
   ],
   "source": [
    "df.head()"
   ]
  },
  {
   "cell_type": "code",
   "execution_count": 4,
   "metadata": {},
   "outputs": [],
   "source": [
    "# Creating new column to find length of each Protein sequence\n",
    "df['Sequence Length'] = df['sequence'].apply(len)"
   ]
  },
  {
   "cell_type": "code",
   "execution_count": 5,
   "metadata": {},
   "outputs": [],
   "source": [
    "# Converting mobidb_consensus column to type string\n",
    "df['mobidb_consensus'] = df['mobidb_consensus'].astype(str)"
   ]
  },
  {
   "cell_type": "code",
   "execution_count": 6,
   "metadata": {},
   "outputs": [],
   "source": [
    "# Creating new column which contains relevant information from mobidb_consensus column\n",
    "df['shortened mobidb consensus'] = df['mobidb_consensus'].str.split('\\{\\'method\\'\\:\\s\\'full\\'\\,\\s\\'regions\\'\\:\\s').str[-1].str.strip()"
   ]
  },
  {
   "cell_type": "code",
   "execution_count": 7,
   "metadata": {},
   "outputs": [],
   "source": [
    "# Extracting relevant columns from dataframe\n",
    "df = df[['acc', 'mobidb_consensus', 'shortened mobidb consensus', 'ncbi_taxon_id', 'organism', 'Sequence Length', 'sequence']]"
   ]
  },
  {
   "cell_type": "code",
   "execution_count": 8,
   "metadata": {},
   "outputs": [],
   "source": [
    "df.rename(columns={'shortened mobidb consensus': 'shortened_mobidb_consensus'}, inplace=True)"
   ]
  },
  {
   "cell_type": "markdown",
   "metadata": {},
   "source": [
    "### Calculating the proportion of the sequence which is not being referenced"
   ]
  },
  {
   "cell_type": "code",
   "execution_count": 9,
   "metadata": {},
   "outputs": [],
   "source": [
    "Row_list =[] \n",
    "  \n",
    "# Iterate over each row \n",
    "for rows in df.itertuples(): \n",
    "     \n",
    "    my_list =[rows.shortened_mobidb_consensus] # Create list for the current row\n",
    "    rowsToString = ''.join(my_list)    # Convert the elements in the rows to sting\n",
    "    onlyNumbers = re.findall(r'\\b\\d+\\b', rowsToString)  # Remove anything but the digits from each row\n",
    "    for i in range(0, len(onlyNumbers)): # for each element in the list, convert them to integer\n",
    "        onlyNumbers[i] = int(onlyNumbers[i])\n",
    "    # Summing the difference of every 2 elements in the row \n",
    "    sumOfDifference = [onlyNumbers[i + 1] - onlyNumbers[i] + 1 for i in range(0,len(onlyNumbers)-1,2)] \n",
    "    sumOfList = sum(sumOfDifference) # Summing resulting differences to find the total number of elemenets in the sequences\n",
    "    Row_list.append(sumOfList) # Adding the resulting numbers to a list    "
   ]
  },
  {
   "cell_type": "code",
   "execution_count": 10,
   "metadata": {},
   "outputs": [],
   "source": [
    "# Creating column which contains the number of amino acids which are referenced\n",
    "df['#_AA_referenced'] = Row_list"
   ]
  },
  {
   "cell_type": "code",
   "execution_count": 11,
   "metadata": {},
   "outputs": [],
   "source": [
    "# Calculating the fraction of references which are missing\n",
    "df['Fraction Missing'] = 1 - (df['#_AA_referenced']/df['Sequence Length'])"
   ]
  },
  {
   "cell_type": "code",
   "execution_count": 12,
   "metadata": {},
   "outputs": [],
   "source": [
    "# Removing unnecessary elements in string\n",
    "df['shortened_mobidb_consensus'] = df['shortened_mobidb_consensus'].str.replace(r'\\}\\]\\}\\}$', '')"
   ]
  },
  {
   "cell_type": "markdown",
   "metadata": {},
   "source": [
    "## Removing unreferenced amino acids and updating the class reference indexes"
   ]
  },
  {
   "cell_type": "code",
   "execution_count": 13,
   "metadata": {},
   "outputs": [],
   "source": [
    "shortenedSeq_list =[] # defining new lists\n",
    "updatedIndexes = [] \n",
    "\n",
    "for rows in df.itertuples(): # iterate through rows\n",
    "    sequence = rows.sequence # assign protein sequence to variable\n",
    "    classReferences = rows.shortened_mobidb_consensus # assign numbers and corresponding class to variable\n",
    "    result = ast.literal_eval(classReferences)\n",
    "    newSequence = ''\n",
    "    \n",
    "    for item in result: # iterate through class references\n",
    "        newSequence += sequence[item[0]-1:item[1]] # remove amino acids which are not referenced\n",
    "    shortenedSeq_list.append(newSequence)\n",
    "\n",
    "    # Update the class reference based on removed amino acids\n",
    "    currentIndex = 1\n",
    "    for i in range(len(result)): # for each of the class references \n",
    "        reference = result[i]\n",
    "        if reference[0] != currentIndex: # if the first reference number does not correspond to current index\n",
    "            difference = reference[0] - currentIndex # calculate the difference between reference number and current index\n",
    "            reference[0] -= difference # update the indexes in the reference\n",
    "            reference[1] -= difference\n",
    "        currentIndex = reference[1] + 1 # update current index to move onto next set of references\n",
    "        updatedIndexes.append(reference) # add updated indexes to list"
   ]
  },
  {
   "cell_type": "code",
   "execution_count": 14,
   "metadata": {},
   "outputs": [],
   "source": [
    "# Create new column which contains shortened sequences\n",
    "df['shortened_sequence'] = shortenedSeq_list"
   ]
  },
  {
   "cell_type": "code",
   "execution_count": 15,
   "metadata": {},
   "outputs": [
    {
     "data": {
      "text/html": [
       "<div>\n",
       "<style scoped>\n",
       "    .dataframe tbody tr th:only-of-type {\n",
       "        vertical-align: middle;\n",
       "    }\n",
       "\n",
       "    .dataframe tbody tr th {\n",
       "        vertical-align: top;\n",
       "    }\n",
       "\n",
       "    .dataframe thead th {\n",
       "        text-align: right;\n",
       "    }\n",
       "</style>\n",
       "<table border=\"1\" class=\"dataframe\">\n",
       "  <thead>\n",
       "    <tr style=\"text-align: right;\">\n",
       "      <th></th>\n",
       "      <th>acc</th>\n",
       "      <th>mobidb_consensus</th>\n",
       "      <th>shortened_mobidb_consensus</th>\n",
       "      <th>ncbi_taxon_id</th>\n",
       "      <th>organism</th>\n",
       "      <th>Sequence Length</th>\n",
       "      <th>sequence</th>\n",
       "      <th>#_AA_referenced</th>\n",
       "      <th>Fraction Missing</th>\n",
       "      <th>shortened_sequence</th>\n",
       "    </tr>\n",
       "  </thead>\n",
       "  <tbody>\n",
       "    <tr>\n",
       "      <td>0</td>\n",
       "      <td>P31994</td>\n",
       "      <td>{'disorder': {'derived': [{'regions': [[46, 46...</td>\n",
       "      <td>[[45, 45, 'D'], [46, 49, 'C'], [50, 66, 'S'], ...</td>\n",
       "      <td>9606</td>\n",
       "      <td>Homo sapiens (Human)</td>\n",
       "      <td>310</td>\n",
       "      <td>MGILSFLPVLATESDWADCKSPQPWGHMLLWTAVLFLAPVAGTPAA...</td>\n",
       "      <td>173</td>\n",
       "      <td>0.441935</td>\n",
       "      <td>AAPPKAVLKLEPQWINVLQEDSVTLTCRGTHSPESDSIQWFHNGNL...</td>\n",
       "    </tr>\n",
       "    <tr>\n",
       "      <td>1</td>\n",
       "      <td>F2Z602</td>\n",
       "      <td>{'disorder': {'derived': [{'regions': [[2, 143...</td>\n",
       "      <td>[[1, 1, 'D'], [2, 143, 'S'], [144, 145, 'C']]</td>\n",
       "      <td>284590</td>\n",
       "      <td>Kluyveromyces lactis (strain ATCC 8585 / CBS 2...</td>\n",
       "      <td>145</td>\n",
       "      <td>MGKGKPRGLNSARKLRVHRRNNRWAETTYKKRLLGTAFKSSPFGGS...</td>\n",
       "      <td>145</td>\n",
       "      <td>0.000000</td>\n",
       "      <td>MGKGKPRGLNSARKLRVHRRNNRWAETTYKKRLLGTAFKSSPFGGS...</td>\n",
       "    </tr>\n",
       "    <tr>\n",
       "      <td>2</td>\n",
       "      <td>Q875M3</td>\n",
       "      <td>{'disorder': {'derived': [{'regions': [[1, 145...</td>\n",
       "      <td>[[1, 145, 'S']]</td>\n",
       "      <td>28985</td>\n",
       "      <td>Kluyveromyces lactis (Yeast) (Candida sphaerica)</td>\n",
       "      <td>145</td>\n",
       "      <td>MGKGKPRGLNSARKLRVHRRNNRWAETTYKKRLLGTAFKSSPFGGS...</td>\n",
       "      <td>145</td>\n",
       "      <td>0.000000</td>\n",
       "      <td>MGKGKPRGLNSARKLRVHRRNNRWAETTYKKRLLGTAFKSSPFGGS...</td>\n",
       "    </tr>\n",
       "    <tr>\n",
       "      <td>3</td>\n",
       "      <td>Q86A17</td>\n",
       "      <td>{'disorder': {'derived': [{'regions': [[2, 2, ...</td>\n",
       "      <td>[[1, 1, 'D'], [2, 2, 'C'], [3, 37, 'S'], [38, ...</td>\n",
       "      <td>44689</td>\n",
       "      <td>Dictyostelium discoideum (Slime mold)</td>\n",
       "      <td>231</td>\n",
       "      <td>MSKNILVLGGSGALGAEVVKFFKSKSWNTISIDFRENPNADHSFTI...</td>\n",
       "      <td>231</td>\n",
       "      <td>0.000000</td>\n",
       "      <td>MSKNILVLGGSGALGAEVVKFFKSKSWNTISIDFRENPNADHSFTI...</td>\n",
       "    </tr>\n",
       "    <tr>\n",
       "      <td>4</td>\n",
       "      <td>P10855</td>\n",
       "      <td>{'disorder': {'derived': [{'regions': [[30, 91...</td>\n",
       "      <td>[[24, 29, 'D'], [30, 91, 'S'], [92, 92, 'D']]</td>\n",
       "      <td>10090</td>\n",
       "      <td>Mus musculus (Mouse)</td>\n",
       "      <td>92</td>\n",
       "      <td>MKVSTTALAVLLCTMTLCNQVFSAPYGADTPTACCFSYSRKIPRQF...</td>\n",
       "      <td>69</td>\n",
       "      <td>0.250000</td>\n",
       "      <td>APYGADTPTACCFSYSRKIPRQFIVDYFETSSLCSQPGVIFLTKRN...</td>\n",
       "    </tr>\n",
       "  </tbody>\n",
       "</table>\n",
       "</div>"
      ],
      "text/plain": [
       "      acc                                   mobidb_consensus  \\\n",
       "0  P31994  {'disorder': {'derived': [{'regions': [[46, 46...   \n",
       "1  F2Z602  {'disorder': {'derived': [{'regions': [[2, 143...   \n",
       "2  Q875M3  {'disorder': {'derived': [{'regions': [[1, 145...   \n",
       "3  Q86A17  {'disorder': {'derived': [{'regions': [[2, 2, ...   \n",
       "4  P10855  {'disorder': {'derived': [{'regions': [[30, 91...   \n",
       "\n",
       "                          shortened_mobidb_consensus  ncbi_taxon_id  \\\n",
       "0  [[45, 45, 'D'], [46, 49, 'C'], [50, 66, 'S'], ...           9606   \n",
       "1      [[1, 1, 'D'], [2, 143, 'S'], [144, 145, 'C']]         284590   \n",
       "2                                    [[1, 145, 'S']]          28985   \n",
       "3  [[1, 1, 'D'], [2, 2, 'C'], [3, 37, 'S'], [38, ...          44689   \n",
       "4      [[24, 29, 'D'], [30, 91, 'S'], [92, 92, 'D']]          10090   \n",
       "\n",
       "                                            organism  Sequence Length  \\\n",
       "0                               Homo sapiens (Human)              310   \n",
       "1  Kluyveromyces lactis (strain ATCC 8585 / CBS 2...              145   \n",
       "2   Kluyveromyces lactis (Yeast) (Candida sphaerica)              145   \n",
       "3              Dictyostelium discoideum (Slime mold)              231   \n",
       "4                               Mus musculus (Mouse)               92   \n",
       "\n",
       "                                            sequence  #_AA_referenced  \\\n",
       "0  MGILSFLPVLATESDWADCKSPQPWGHMLLWTAVLFLAPVAGTPAA...              173   \n",
       "1  MGKGKPRGLNSARKLRVHRRNNRWAETTYKKRLLGTAFKSSPFGGS...              145   \n",
       "2  MGKGKPRGLNSARKLRVHRRNNRWAETTYKKRLLGTAFKSSPFGGS...              145   \n",
       "3  MSKNILVLGGSGALGAEVVKFFKSKSWNTISIDFRENPNADHSFTI...              231   \n",
       "4  MKVSTTALAVLLCTMTLCNQVFSAPYGADTPTACCFSYSRKIPRQF...               69   \n",
       "\n",
       "   Fraction Missing                                 shortened_sequence  \n",
       "0          0.441935  AAPPKAVLKLEPQWINVLQEDSVTLTCRGTHSPESDSIQWFHNGNL...  \n",
       "1          0.000000  MGKGKPRGLNSARKLRVHRRNNRWAETTYKKRLLGTAFKSSPFGGS...  \n",
       "2          0.000000  MGKGKPRGLNSARKLRVHRRNNRWAETTYKKRLLGTAFKSSPFGGS...  \n",
       "3          0.000000  MSKNILVLGGSGALGAEVVKFFKSKSWNTISIDFRENPNADHSFTI...  \n",
       "4          0.250000  APYGADTPTACCFSYSRKIPRQFIVDYFETSSLCSQPGVIFLTKRN...  "
      ]
     },
     "execution_count": 15,
     "metadata": {},
     "output_type": "execute_result"
    }
   ],
   "source": [
    "df.head()"
   ]
  },
  {
   "cell_type": "markdown",
   "metadata": {},
   "source": [
    "#### Reconstructing new indexes and classes "
   ]
  },
  {
   "cell_type": "code",
   "execution_count": 16,
   "metadata": {},
   "outputs": [
    {
     "name": "stderr",
     "output_type": "stream",
     "text": [
      "/Users/rebeccalenihan/anaconda3/lib/python3.7/site-packages/pandas/core/strings.py:619: FutureWarning: Possible nested set at position 1\n",
      "  compiled = re.compile(pat, flags=flags)\n"
     ]
    }
   ],
   "source": [
    "df['lettersOnly'] = df['shortened_mobidb_consensus'].str.replace(r'[[\\d\\,\\s\\]]', '')"
   ]
  },
  {
   "cell_type": "code",
   "execution_count": 17,
   "metadata": {},
   "outputs": [],
   "source": [
    "letterList = []\n",
    "\n",
    "# Structuring class references and adding to a list\n",
    "for rows in df.itertuples():\n",
    "    myletterList = rows.lettersOnly\n",
    "    toString = ''.join(myletterList)\n",
    "    onlyLetters = re.findall(r'[a-zA-z]', toString)\n",
    "    letterList.append(onlyLetters)"
   ]
  },
  {
   "cell_type": "code",
   "execution_count": 18,
   "metadata": {},
   "outputs": [],
   "source": [
    "# Combining classes with corresponding positions\n",
    "newIndex, c = [], 0\n",
    "for i in [len(x) for x in letterList]:\n",
    "    newIndex.append(updatedIndexes[c: c + i])\n",
    "    c += i"
   ]
  },
  {
   "cell_type": "code",
   "execution_count": 19,
   "metadata": {},
   "outputs": [],
   "source": [
    "df['Updated Indexes'] = newIndex"
   ]
  },
  {
   "cell_type": "code",
   "execution_count": 20,
   "metadata": {},
   "outputs": [],
   "source": [
    "del df['lettersOnly']"
   ]
  },
  {
   "cell_type": "code",
   "execution_count": 21,
   "metadata": {},
   "outputs": [
    {
     "data": {
      "text/html": [
       "<div>\n",
       "<style scoped>\n",
       "    .dataframe tbody tr th:only-of-type {\n",
       "        vertical-align: middle;\n",
       "    }\n",
       "\n",
       "    .dataframe tbody tr th {\n",
       "        vertical-align: top;\n",
       "    }\n",
       "\n",
       "    .dataframe thead th {\n",
       "        text-align: right;\n",
       "    }\n",
       "</style>\n",
       "<table border=\"1\" class=\"dataframe\">\n",
       "  <thead>\n",
       "    <tr style=\"text-align: right;\">\n",
       "      <th></th>\n",
       "      <th>acc</th>\n",
       "      <th>mobidb_consensus</th>\n",
       "      <th>shortened_mobidb_consensus</th>\n",
       "      <th>ncbi_taxon_id</th>\n",
       "      <th>organism</th>\n",
       "      <th>Sequence Length</th>\n",
       "      <th>sequence</th>\n",
       "      <th>#_AA_referenced</th>\n",
       "      <th>Fraction Missing</th>\n",
       "      <th>shortened_sequence</th>\n",
       "      <th>Updated Indexes</th>\n",
       "    </tr>\n",
       "  </thead>\n",
       "  <tbody>\n",
       "    <tr>\n",
       "      <td>0</td>\n",
       "      <td>P31994</td>\n",
       "      <td>{'disorder': {'derived': [{'regions': [[46, 46...</td>\n",
       "      <td>[[45, 45, 'D'], [46, 49, 'C'], [50, 66, 'S'], ...</td>\n",
       "      <td>9606</td>\n",
       "      <td>Homo sapiens (Human)</td>\n",
       "      <td>310</td>\n",
       "      <td>MGILSFLPVLATESDWADCKSPQPWGHMLLWTAVLFLAPVAGTPAA...</td>\n",
       "      <td>173</td>\n",
       "      <td>0.441935</td>\n",
       "      <td>AAPPKAVLKLEPQWINVLQEDSVTLTCRGTHSPESDSIQWFHNGNL...</td>\n",
       "      <td>[[1, 1, D], [2, 5, C], [6, 22, S], [23, 57, C]...</td>\n",
       "    </tr>\n",
       "    <tr>\n",
       "      <td>1</td>\n",
       "      <td>F2Z602</td>\n",
       "      <td>{'disorder': {'derived': [{'regions': [[2, 143...</td>\n",
       "      <td>[[1, 1, 'D'], [2, 143, 'S'], [144, 145, 'C']]</td>\n",
       "      <td>284590</td>\n",
       "      <td>Kluyveromyces lactis (strain ATCC 8585 / CBS 2...</td>\n",
       "      <td>145</td>\n",
       "      <td>MGKGKPRGLNSARKLRVHRRNNRWAETTYKKRLLGTAFKSSPFGGS...</td>\n",
       "      <td>145</td>\n",
       "      <td>0.000000</td>\n",
       "      <td>MGKGKPRGLNSARKLRVHRRNNRWAETTYKKRLLGTAFKSSPFGGS...</td>\n",
       "      <td>[[1, 1, D], [2, 143, S], [144, 145, C]]</td>\n",
       "    </tr>\n",
       "    <tr>\n",
       "      <td>2</td>\n",
       "      <td>Q875M3</td>\n",
       "      <td>{'disorder': {'derived': [{'regions': [[1, 145...</td>\n",
       "      <td>[[1, 145, 'S']]</td>\n",
       "      <td>28985</td>\n",
       "      <td>Kluyveromyces lactis (Yeast) (Candida sphaerica)</td>\n",
       "      <td>145</td>\n",
       "      <td>MGKGKPRGLNSARKLRVHRRNNRWAETTYKKRLLGTAFKSSPFGGS...</td>\n",
       "      <td>145</td>\n",
       "      <td>0.000000</td>\n",
       "      <td>MGKGKPRGLNSARKLRVHRRNNRWAETTYKKRLLGTAFKSSPFGGS...</td>\n",
       "      <td>[[1, 145, S]]</td>\n",
       "    </tr>\n",
       "    <tr>\n",
       "      <td>3</td>\n",
       "      <td>Q86A17</td>\n",
       "      <td>{'disorder': {'derived': [{'regions': [[2, 2, ...</td>\n",
       "      <td>[[1, 1, 'D'], [2, 2, 'C'], [3, 37, 'S'], [38, ...</td>\n",
       "      <td>44689</td>\n",
       "      <td>Dictyostelium discoideum (Slime mold)</td>\n",
       "      <td>231</td>\n",
       "      <td>MSKNILVLGGSGALGAEVVKFFKSKSWNTISIDFRENPNADHSFTI...</td>\n",
       "      <td>231</td>\n",
       "      <td>0.000000</td>\n",
       "      <td>MSKNILVLGGSGALGAEVVKFFKSKSWNTISIDFRENPNADHSFTI...</td>\n",
       "      <td>[[1, 1, D], [2, 2, C], [3, 37, S], [38, 39, C]...</td>\n",
       "    </tr>\n",
       "    <tr>\n",
       "      <td>4</td>\n",
       "      <td>P10855</td>\n",
       "      <td>{'disorder': {'derived': [{'regions': [[30, 91...</td>\n",
       "      <td>[[24, 29, 'D'], [30, 91, 'S'], [92, 92, 'D']]</td>\n",
       "      <td>10090</td>\n",
       "      <td>Mus musculus (Mouse)</td>\n",
       "      <td>92</td>\n",
       "      <td>MKVSTTALAVLLCTMTLCNQVFSAPYGADTPTACCFSYSRKIPRQF...</td>\n",
       "      <td>69</td>\n",
       "      <td>0.250000</td>\n",
       "      <td>APYGADTPTACCFSYSRKIPRQFIVDYFETSSLCSQPGVIFLTKRN...</td>\n",
       "      <td>[[1, 6, D], [7, 68, S], [69, 69, D]]</td>\n",
       "    </tr>\n",
       "  </tbody>\n",
       "</table>\n",
       "</div>"
      ],
      "text/plain": [
       "      acc                                   mobidb_consensus  \\\n",
       "0  P31994  {'disorder': {'derived': [{'regions': [[46, 46...   \n",
       "1  F2Z602  {'disorder': {'derived': [{'regions': [[2, 143...   \n",
       "2  Q875M3  {'disorder': {'derived': [{'regions': [[1, 145...   \n",
       "3  Q86A17  {'disorder': {'derived': [{'regions': [[2, 2, ...   \n",
       "4  P10855  {'disorder': {'derived': [{'regions': [[30, 91...   \n",
       "\n",
       "                          shortened_mobidb_consensus  ncbi_taxon_id  \\\n",
       "0  [[45, 45, 'D'], [46, 49, 'C'], [50, 66, 'S'], ...           9606   \n",
       "1      [[1, 1, 'D'], [2, 143, 'S'], [144, 145, 'C']]         284590   \n",
       "2                                    [[1, 145, 'S']]          28985   \n",
       "3  [[1, 1, 'D'], [2, 2, 'C'], [3, 37, 'S'], [38, ...          44689   \n",
       "4      [[24, 29, 'D'], [30, 91, 'S'], [92, 92, 'D']]          10090   \n",
       "\n",
       "                                            organism  Sequence Length  \\\n",
       "0                               Homo sapiens (Human)              310   \n",
       "1  Kluyveromyces lactis (strain ATCC 8585 / CBS 2...              145   \n",
       "2   Kluyveromyces lactis (Yeast) (Candida sphaerica)              145   \n",
       "3              Dictyostelium discoideum (Slime mold)              231   \n",
       "4                               Mus musculus (Mouse)               92   \n",
       "\n",
       "                                            sequence  #_AA_referenced  \\\n",
       "0  MGILSFLPVLATESDWADCKSPQPWGHMLLWTAVLFLAPVAGTPAA...              173   \n",
       "1  MGKGKPRGLNSARKLRVHRRNNRWAETTYKKRLLGTAFKSSPFGGS...              145   \n",
       "2  MGKGKPRGLNSARKLRVHRRNNRWAETTYKKRLLGTAFKSSPFGGS...              145   \n",
       "3  MSKNILVLGGSGALGAEVVKFFKSKSWNTISIDFRENPNADHSFTI...              231   \n",
       "4  MKVSTTALAVLLCTMTLCNQVFSAPYGADTPTACCFSYSRKIPRQF...               69   \n",
       "\n",
       "   Fraction Missing                                 shortened_sequence  \\\n",
       "0          0.441935  AAPPKAVLKLEPQWINVLQEDSVTLTCRGTHSPESDSIQWFHNGNL...   \n",
       "1          0.000000  MGKGKPRGLNSARKLRVHRRNNRWAETTYKKRLLGTAFKSSPFGGS...   \n",
       "2          0.000000  MGKGKPRGLNSARKLRVHRRNNRWAETTYKKRLLGTAFKSSPFGGS...   \n",
       "3          0.000000  MSKNILVLGGSGALGAEVVKFFKSKSWNTISIDFRENPNADHSFTI...   \n",
       "4          0.250000  APYGADTPTACCFSYSRKIPRQFIVDYFETSSLCSQPGVIFLTKRN...   \n",
       "\n",
       "                                     Updated Indexes  \n",
       "0  [[1, 1, D], [2, 5, C], [6, 22, S], [23, 57, C]...  \n",
       "1            [[1, 1, D], [2, 143, S], [144, 145, C]]  \n",
       "2                                      [[1, 145, S]]  \n",
       "3  [[1, 1, D], [2, 2, C], [3, 37, S], [38, 39, C]...  \n",
       "4               [[1, 6, D], [7, 68, S], [69, 69, D]]  "
      ]
     },
     "execution_count": 21,
     "metadata": {},
     "output_type": "execute_result"
    }
   ],
   "source": [
    "df.head()"
   ]
  },
  {
   "cell_type": "markdown",
   "metadata": {},
   "source": [
    "### Calculating the proportion of the sequence which is ordered, disordered or ambiguous"
   ]
  },
  {
   "cell_type": "code",
   "execution_count": 22,
   "metadata": {},
   "outputs": [],
   "source": [
    "# Extracting the revelant information from string for disordered regions in sequence\n",
    "df['D_Class'] = df['shortened_mobidb_consensus'].str.extractall(r'(\\[[0-9]+\\,\\s[0-9]+\\,\\s\\'[D]\\'\\])').unstack().apply(lambda x:','.join(x.dropna()), axis=1)\n",
    "# Extracting the revelant information from string for ordered regions in sequence\n",
    "df['S_Class'] = df['shortened_mobidb_consensus'].str.extractall(r'(\\[[0-9]+\\,\\s[0-9]+\\,\\s\\'[S]\\'\\])').unstack().apply(lambda x:','.join(x.dropna()), axis=1)\n",
    "# Extracting the revelant information from string for ambiguous regions in sequence\n",
    "df['C_Class'] = df['shortened_mobidb_consensus'].str.extractall(r'(\\[[0-9]+\\,\\s[0-9]+\\,\\s\\'[C]\\'\\])').unstack().apply(lambda x:','.join(x.dropna()), axis=1)\n",
    "\n",
    "# Converting column to type string\n",
    "df['D_Class'] = df['D_Class'].astype(str)\n",
    "df['S_Class'] = df['S_Class'].astype(str)\n",
    "df['C_Class'] = df['C_Class'].astype(str)"
   ]
  },
  {
   "cell_type": "code",
   "execution_count": 23,
   "metadata": {},
   "outputs": [],
   "source": [
    "D_list =[] \n",
    "  \n",
    "# Iterate over each row \n",
    "for rows in df.itertuples(): \n",
    "     \n",
    "    my_Dlist =[rows.D_Class] # Create list for the current row\n",
    "    DrowsToString = ''.join(my_Dlist)    # Convert the elements in the rows to sting\n",
    "    DonlyNumbers = re.findall(r'\\b\\d+\\b', DrowsToString)  # Remove anything but the digits from each row\n",
    "    for i in range(0, len(DonlyNumbers)): # for each element in the list, convert them to integer\n",
    "        DonlyNumbers[i] = int(DonlyNumbers[i])\n",
    "    # Summing the difference of every 2 elements in the row \n",
    "    sumOfDifferenceD = [DonlyNumbers[i + 1] - DonlyNumbers[i] + 1 for i in range(0,len(DonlyNumbers)-1,2)] \n",
    "    sumOfListD = sum(sumOfDifferenceD) # Summing resulting differences to find the total number of elemenets in the sequence are there\n",
    "    D_list.append(sum(sumOfDifferenceD)) # Adding the resulting numbers to a list"
   ]
  },
  {
   "cell_type": "code",
   "execution_count": 24,
   "metadata": {},
   "outputs": [],
   "source": [
    "S_list =[] \n",
    "  \n",
    "# Iterate over each row \n",
    "for rows in df.itertuples(): \n",
    "     \n",
    "    my_Slist =[rows.S_Class] # Create list for the current row\n",
    "    SrowsToString = ''.join(my_Slist)    # Convert the elements in the rows to sting\n",
    "    SonlyNumbers = re.findall(r'\\b\\d+\\b', SrowsToString)  # Remove anything but the digits from each row\n",
    "    for i in range(0, len(SonlyNumbers)): # for each element in the list, convert them to integer\n",
    "        SonlyNumbers[i] = int(SonlyNumbers[i])\n",
    "    # Summing the difference of every 2 elements in the row \n",
    "    sumOfDifferenceS = [SonlyNumbers[i + 1] - SonlyNumbers[i] + 1 for i in range(0,len(SonlyNumbers)-1,2)] \n",
    "    sumOfListS = sum(sumOfDifferenceS) # Summing resulting differences to find the total number of elemenets in the sequence are there\n",
    "    S_list.append(sum(sumOfDifferenceS)) # Adding the resulting numbers to a list"
   ]
  },
  {
   "cell_type": "code",
   "execution_count": 25,
   "metadata": {},
   "outputs": [],
   "source": [
    "C_list =[] \n",
    "  \n",
    "# Iterate over each row \n",
    "for rows in df.itertuples(): \n",
    "     \n",
    "    my_Clist =[rows.C_Class] # Create list for the current row\n",
    "    CrowsToString = ''.join(my_Clist)    # Convert the elements in the rows to sting\n",
    "    ConlyNumbers = re.findall(r'\\b\\d+\\b', CrowsToString)  # Remove anything but the digits from each row\n",
    "    for i in range(0, len(ConlyNumbers)): # for each element in the list, convert them to integer\n",
    "        ConlyNumbers[i] = int(ConlyNumbers[i])\n",
    "    # Summing the difference of every 2 elements in the row \n",
    "    sumOfDifferenceC = [ConlyNumbers[i + 1] - ConlyNumbers[i] + 1 for i in range(0,len(ConlyNumbers)-1,2)] \n",
    "    sumOfListC = sum(sumOfDifferenceC) # Summing resulting differences to find the total number of elemenets in the sequence are there\n",
    "    C_list.append(sum(sumOfDifferenceC)) # Adding the resulting numbers to a list"
   ]
  },
  {
   "cell_type": "code",
   "execution_count": 26,
   "metadata": {},
   "outputs": [],
   "source": [
    "df['Total_Disordered_Regions'] = D_list\n",
    "df['Total_Ordered_Regions'] = S_list\n",
    "df['Total_Ambiguous_Regions'] = C_list"
   ]
  },
  {
   "cell_type": "markdown",
   "metadata": {},
   "source": [
    "### Creating new dataset with the relevant information needed for next steps\n",
    "\n",
    "* Conducting analysis of sequences with unreferenced amino acids removed"
   ]
  },
  {
   "cell_type": "code",
   "execution_count": 27,
   "metadata": {},
   "outputs": [],
   "source": [
    "df2 = df[['organism', 'mobidb_consensus', 'ncbi_taxon_id','shortened_sequence', 'D_Class', 'S_Class', 'C_Class', 'Total_Disordered_Regions', 'Total_Ordered_Regions', 'Total_Ambiguous_Regions']]"
   ]
  },
  {
   "cell_type": "code",
   "execution_count": 28,
   "metadata": {},
   "outputs": [
    {
     "name": "stderr",
     "output_type": "stream",
     "text": [
      "/Users/rebeccalenihan/anaconda3/lib/python3.7/site-packages/ipykernel_launcher.py:1: SettingWithCopyWarning: \n",
      "A value is trying to be set on a copy of a slice from a DataFrame.\n",
      "Try using .loc[row_indexer,col_indexer] = value instead\n",
      "\n",
      "See the caveats in the documentation: http://pandas.pydata.org/pandas-docs/stable/user_guide/indexing.html#returning-a-view-versus-a-copy\n",
      "  \"\"\"Entry point for launching an IPython kernel.\n"
     ]
    }
   ],
   "source": [
    "df2['Sequence_Length'] = df2['shortened_sequence'].apply(len)"
   ]
  },
  {
   "cell_type": "code",
   "execution_count": 29,
   "metadata": {},
   "outputs": [
    {
     "name": "stderr",
     "output_type": "stream",
     "text": [
      "/Users/rebeccalenihan/anaconda3/lib/python3.7/site-packages/ipykernel_launcher.py:1: SettingWithCopyWarning: \n",
      "A value is trying to be set on a copy of a slice from a DataFrame.\n",
      "Try using .loc[row_indexer,col_indexer] = value instead\n",
      "\n",
      "See the caveats in the documentation: http://pandas.pydata.org/pandas-docs/stable/user_guide/indexing.html#returning-a-view-versus-a-copy\n",
      "  \"\"\"Entry point for launching an IPython kernel.\n",
      "/Users/rebeccalenihan/anaconda3/lib/python3.7/site-packages/ipykernel_launcher.py:2: SettingWithCopyWarning: \n",
      "A value is trying to be set on a copy of a slice from a DataFrame.\n",
      "Try using .loc[row_indexer,col_indexer] = value instead\n",
      "\n",
      "See the caveats in the documentation: http://pandas.pydata.org/pandas-docs/stable/user_guide/indexing.html#returning-a-view-versus-a-copy\n",
      "  \n",
      "/Users/rebeccalenihan/anaconda3/lib/python3.7/site-packages/ipykernel_launcher.py:3: SettingWithCopyWarning: \n",
      "A value is trying to be set on a copy of a slice from a DataFrame.\n",
      "Try using .loc[row_indexer,col_indexer] = value instead\n",
      "\n",
      "See the caveats in the documentation: http://pandas.pydata.org/pandas-docs/stable/user_guide/indexing.html#returning-a-view-versus-a-copy\n",
      "  This is separate from the ipykernel package so we can avoid doing imports until\n"
     ]
    }
   ],
   "source": [
    "df2['%_Sequence_Disordered'] = (df2['Total_Disordered_Regions']/df2['Sequence_Length'])\n",
    "df2['%_Sequence_Ordered'] = (df2['Total_Ordered_Regions']/df2['Sequence_Length'])\n",
    "df2['%_Sequence_Ambiguous'] = (df2['Total_Ambiguous_Regions']/df2['Sequence_Length'])"
   ]
  },
  {
   "cell_type": "code",
   "execution_count": 30,
   "metadata": {},
   "outputs": [],
   "source": [
    "avgDisordered = df2['%_Sequence_Disordered'].mean()\n",
    "avgOrdered = df2['%_Sequence_Ordered'].mean()\n",
    "avgAmbiguous = df2['%_Sequence_Ambiguous'].mean()"
   ]
  },
  {
   "cell_type": "markdown",
   "metadata": {},
   "source": [
    "### Calculating maximum and minmum sequence lengths"
   ]
  },
  {
   "cell_type": "code",
   "execution_count": 31,
   "metadata": {},
   "outputs": [
    {
     "data": {
      "text/plain": [
       "34350"
      ]
     },
     "execution_count": 31,
     "metadata": {},
     "output_type": "execute_result"
    }
   ],
   "source": [
    "max(df['Sequence Length'])"
   ]
  },
  {
   "cell_type": "code",
   "execution_count": 32,
   "metadata": {},
   "outputs": [
    {
     "data": {
      "text/plain": [
       "10"
      ]
     },
     "execution_count": 32,
     "metadata": {},
     "output_type": "execute_result"
    }
   ],
   "source": [
    "min(df['Sequence Length'])"
   ]
  },
  {
   "cell_type": "code",
   "execution_count": 33,
   "metadata": {},
   "outputs": [],
   "source": [
    "df.to_csv(\"dataset.csv\")"
   ]
  },
  {
   "cell_type": "code",
   "execution_count": null,
   "metadata": {},
   "outputs": [],
   "source": []
  }
 ],
 "metadata": {
  "kernelspec": {
   "display_name": "Python 3",
   "language": "python",
   "name": "python3"
  },
  "language_info": {
   "codemirror_mode": {
    "name": "ipython",
    "version": 3
   },
   "file_extension": ".py",
   "mimetype": "text/x-python",
   "name": "python",
   "nbconvert_exporter": "python",
   "pygments_lexer": "ipython3",
   "version": "3.7.4"
  }
 },
 "nbformat": 4,
 "nbformat_minor": 2
}
