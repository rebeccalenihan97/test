{
 "cells": [
  {
   "cell_type": "markdown",
   "metadata": {},
   "source": [
    "## This notebook contains the relevant code to create train and test sets for proteins with alignment and without alignment. "
   ]
  },
  {
   "cell_type": "code",
   "execution_count": null,
   "metadata": {},
   "outputs": [],
   "source": [
    "import pandas as pd\n",
    "import ast"
   ]
  },
  {
   "cell_type": "code",
   "execution_count": null,
   "metadata": {},
   "outputs": [],
   "source": [
    "originalDf = pd.read_csv(\"dataset.csv\")"
   ]
  },
  {
   "cell_type": "code",
   "execution_count": null,
   "metadata": {},
   "outputs": [],
   "source": [
    "# Reading in csv file containing aligned sequences\n",
    "alignDf = pd.read_csv(\"AlignmentFiles.csv\", names = ['id', 'Sequence Length', 'alignment'])"
   ]
  },
  {
   "cell_type": "code",
   "execution_count": null,
   "metadata": {
    "scrolled": true
   },
   "outputs": [],
   "source": [
    "alignDf.head()"
   ]
  },
  {
   "cell_type": "code",
   "execution_count": null,
   "metadata": {},
   "outputs": [],
   "source": [
    "del originalDf['Sequence Length']"
   ]
  },
  {
   "cell_type": "code",
   "execution_count": null,
   "metadata": {},
   "outputs": [],
   "source": [
    "# Renaming column\n",
    "originalDf.rename(columns = {'Unnamed: 0':'id'}, inplace = True)"
   ]
  },
  {
   "cell_type": "code",
   "execution_count": null,
   "metadata": {},
   "outputs": [],
   "source": [
    "# Updating id index to match correct index\n",
    "originalDf['id'] += 1"
   ]
  },
  {
   "cell_type": "code",
   "execution_count": null,
   "metadata": {},
   "outputs": [],
   "source": [
    "# Renaming column\n",
    "originalDf.rename(columns = {'#_AA_refereneced':'Sequence Length'}, inplace = True)"
   ]
  },
  {
   "cell_type": "code",
   "execution_count": null,
   "metadata": {},
   "outputs": [],
   "source": [
    "# Merging aligned sequence dataset with original dataset\n",
    "# Allows to combine relevant information with aligned sequences\n",
    "mergedDf = pd.merge(originalDf, alignDf, on=['id'], how='inner')"
   ]
  },
  {
   "cell_type": "code",
   "execution_count": null,
   "metadata": {},
   "outputs": [],
   "source": [
    "mergedDf"
   ]
  },
  {
   "cell_type": "code",
   "execution_count": null,
   "metadata": {},
   "outputs": [],
   "source": [
    "# Making a copy of the new dataframe in order to split into test and train sets\n",
    "dfToSplit = mergedDf[['id', 'shortened_sequence', 'Updated Indexes', 'Sequence Length', 'alignment']].copy()"
   ]
  },
  {
   "cell_type": "code",
   "execution_count": null,
   "metadata": {},
   "outputs": [],
   "source": [
    "# Renaming columns\n",
    "dfToSplit.rename(columns = {'Updated Indexes':'Updated_Indexes'}, inplace = True)"
   ]
  },
  {
   "cell_type": "code",
   "execution_count": null,
   "metadata": {},
   "outputs": [],
   "source": [
    "dfToSplit.head(10)"
   ]
  },
  {
   "cell_type": "code",
   "execution_count": null,
   "metadata": {},
   "outputs": [],
   "source": [
    "# Create test set consisting of every 4th row in the dataset\n",
    "testSetDf = dfToSplit.iloc[::4,:]"
   ]
  },
  {
   "cell_type": "code",
   "execution_count": null,
   "metadata": {},
   "outputs": [],
   "source": [
    "# Ensuring the test set is same size as non-alignment test set\n",
    "# in order to allow for consistent comparison in evaluation stages of project\n",
    "testSetDf = testSetDf.sample(4523, random_state = 2)"
   ]
  },
  {
   "cell_type": "code",
   "execution_count": null,
   "metadata": {},
   "outputs": [],
   "source": [
    "# Add remaining rows to train dataset\n",
    "trainSetDf = pd.concat([dfToSplit, testSetDf, testSetDf]).drop_duplicates(keep=False)"
   ]
  },
  {
   "cell_type": "code",
   "execution_count": null,
   "metadata": {},
   "outputs": [],
   "source": [
    "# Ensuring the train set is same size as non-alignment train set\n",
    "# in order to allow for consistent comparison in evaluation stages of project\n",
    "trainSetDf = trainSetDf.sample(13568, random_state = 2)"
   ]
  },
  {
   "cell_type": "code",
   "execution_count": null,
   "metadata": {},
   "outputs": [],
   "source": [
    "# order rows based on id\n",
    "testSetDf = testSetDf.sort_values(by=['id'])"
   ]
  },
  {
   "cell_type": "code",
   "execution_count": null,
   "metadata": {},
   "outputs": [],
   "source": [
    "testSetDf"
   ]
  },
  {
   "cell_type": "code",
   "execution_count": null,
   "metadata": {},
   "outputs": [],
   "source": [
    "# order rows based on id\n",
    "trainSetDf = trainSetDf.sort_values(by=['id'])"
   ]
  },
  {
   "cell_type": "code",
   "execution_count": null,
   "metadata": {},
   "outputs": [],
   "source": [
    "trainSetDf"
   ]
  },
  {
   "cell_type": "code",
   "execution_count": null,
   "metadata": {},
   "outputs": [],
   "source": [
    "# Extracting relevant indexes from dataframe in order to extract the corresponding class type\n",
    "# for each amino acid in the sequence - to be outputted in the resulting text file\n",
    "test_list = []\n",
    "\n",
    "for rows in testSetDf.itertuples(): # iterating through rows in dataframe\n",
    "    testSetIndexes = [rows.Updated_Indexes] \n",
    "    test_list.append(testSetIndexes) # Adding class indexes to list\n",
    "    \n",
    "flat_test_list = [] \n",
    "\n",
    "# Ensuring list is in correct format\n",
    "for sublist in test_list:\n",
    "    for item in sublist:\n",
    "        flat_test_list.append(item)"
   ]
  },
  {
   "cell_type": "code",
   "execution_count": null,
   "metadata": {},
   "outputs": [],
   "source": [
    "# Converting elements in list from string to list\n",
    "testdf_x = [ast.literal_eval(s) for s in flat_test_list]"
   ]
  },
  {
   "cell_type": "code",
   "execution_count": null,
   "metadata": {},
   "outputs": [],
   "source": [
    "classTypeList = []\n",
    "\n",
    "for value in testdf_x: # for each value in the test list\n",
    "    classType = ''\n",
    "    for x in value: # Print corresponding class for each amino acid in the sequence\n",
    "        classType += ((x[1] - x[0] + 1) * ((x[2]) + ' '))\n",
    "    classTypeList.append(classType) # Add result to list"
   ]
  },
  {
   "cell_type": "code",
   "execution_count": null,
   "metadata": {},
   "outputs": [],
   "source": [
    "# add list as column in dataframe\n",
    "testSetDf['correspondingClassToAA'] = classTypeList"
   ]
  },
  {
   "cell_type": "code",
   "execution_count": null,
   "metadata": {},
   "outputs": [],
   "source": [
    "# Replacing class letter with corresponding class number (i.e.) 0 for order, 1 for disorder, 2 for ambiguity\n",
    "testSetDf['correspondingClassToAA'] = testSetDf['correspondingClassToAA'].str.replace('D','1')\n",
    "testSetDf['correspondingClassToAA'] = testSetDf['correspondingClassToAA'].str.replace('S','0')\n",
    "testSetDf['correspondingClassToAA'] = testSetDf['correspondingClassToAA'].str.replace('C','2')"
   ]
  },
  {
   "cell_type": "code",
   "execution_count": null,
   "metadata": {},
   "outputs": [],
   "source": [
    "# Replacing each letter in the protein sequence with one-hot encoding representation\n",
    "testSetDf['shortened_sequence'] = testSetDf['shortened_sequence'].str.replace('A','1 0 0 0 0 0 0 0 0 0 0 0 0 0 0 0 0 0 0 0 0 ')\n",
    "testSetDf['shortened_sequence'] = testSetDf['shortened_sequence'].str.replace('B','0 0 0 0 0 0 0 0 0 0 0 0 0 0 0 0 0 0 0 0 1 ')\n",
    "testSetDf['shortened_sequence'] = testSetDf['shortened_sequence'].str.replace('C','0 1 0 0 0 0 0 0 0 0 0 0 0 0 0 0 0 0 0 0 0 ')\n",
    "testSetDf['shortened_sequence'] = testSetDf['shortened_sequence'].str.replace('D','0 0 1 0 0 0 0 0 0 0 0 0 0 0 0 0 0 0 0 0 0 ')\n",
    "testSetDf['shortened_sequence'] = testSetDf['shortened_sequence'].str.replace('E','0 0 0 1 0 0 0 0 0 0 0 0 0 0 0 0 0 0 0 0 0 ')\n",
    "testSetDf['shortened_sequence'] = testSetDf['shortened_sequence'].str.replace('F','0 0 0 0 1 0 0 0 0 0 0 0 0 0 0 0 0 0 0 0 0 ')\n",
    "testSetDf['shortened_sequence'] = testSetDf['shortened_sequence'].str.replace('G','0 0 0 0 0 1 0 0 0 0 0 0 0 0 0 0 0 0 0 0 0 ')\n",
    "testSetDf['shortened_sequence'] = testSetDf['shortened_sequence'].str.replace('H','0 0 0 0 0 0 1 0 0 0 0 0 0 0 0 0 0 0 0 0 0 ')\n",
    "testSetDf['shortened_sequence'] = testSetDf['shortened_sequence'].str.replace('I','0 0 0 0 0 0 0 1 0 0 0 0 0 0 0 0 0 0 0 0 0 ')\n",
    "testSetDf['shortened_sequence'] = testSetDf['shortened_sequence'].str.replace('J','0 0 0 0 0 0 0 0 0 0 0 0 0 0 0 0 0 0 0 0 1 ')\n",
    "testSetDf['shortened_sequence'] = testSetDf['shortened_sequence'].str.replace('K','0 0 0 0 0 0 0 0 1 0 0 0 0 0 0 0 0 0 0 0 0 ')\n",
    "testSetDf['shortened_sequence'] = testSetDf['shortened_sequence'].str.replace('L','0 0 0 0 0 0 0 0 0 1 0 0 0 0 0 0 0 0 0 0 0 ')\n",
    "testSetDf['shortened_sequence'] = testSetDf['shortened_sequence'].str.replace('M','0 0 0 0 0 0 0 0 0 0 1 0 0 0 0 0 0 0 0 0 0 ')\n",
    "testSetDf['shortened_sequence'] = testSetDf['shortened_sequence'].str.replace('N','0 0 0 0 0 0 0 0 0 0 0 1 0 0 0 0 0 0 0 0 0 ')\n",
    "testSetDf['shortened_sequence'] = testSetDf['shortened_sequence'].str.replace('O','0 0 0 0 0 0 0 0 0 0 0 0 0 0 0 0 0 0 0 0 1 ')\n",
    "testSetDf['shortened_sequence'] = testSetDf['shortened_sequence'].str.replace('P','0 0 0 0 0 0 0 0 0 0 0 0 1 0 0 0 0 0 0 0 0 ')\n",
    "testSetDf['shortened_sequence'] = testSetDf['shortened_sequence'].str.replace('Q','0 0 0 0 0 0 0 0 0 0 0 0 0 1 0 0 0 0 0 0 0 ')\n",
    "testSetDf['shortened_sequence'] = testSetDf['shortened_sequence'].str.replace('R','0 0 0 0 0 0 0 0 0 0 0 0 0 0 1 0 0 0 0 0 0 ')\n",
    "testSetDf['shortened_sequence'] = testSetDf['shortened_sequence'].str.replace('S','0 0 0 0 0 0 0 0 0 0 0 0 0 0 0 1 0 0 0 0 0 ')\n",
    "testSetDf['shortened_sequence'] = testSetDf['shortened_sequence'].str.replace('T','0 0 0 0 0 0 0 0 0 0 0 0 0 0 0 0 1 0 0 0 0 ')\n",
    "testSetDf['shortened_sequence'] = testSetDf['shortened_sequence'].str.replace('U','0 0 0 0 0 0 0 0 0 0 0 0 0 0 0 0 0 0 0 0 1 ')\n",
    "testSetDf['shortened_sequence'] = testSetDf['shortened_sequence'].str.replace('V','0 0 0 0 0 0 0 0 0 0 0 0 0 0 0 0 0 1 0 0 0 ')\n",
    "testSetDf['shortened_sequence'] = testSetDf['shortened_sequence'].str.replace('W','0 0 0 0 0 0 0 0 0 0 0 0 0 0 0 0 0 0 1 0 0 ')\n",
    "testSetDf['shortened_sequence'] = testSetDf['shortened_sequence'].str.replace('X','0 0 0 0 0 0 0 0 0 0 0 0 0 0 0 0 0 0 0 0 1 ')\n",
    "testSetDf['shortened_sequence'] = testSetDf['shortened_sequence'].str.replace('Y','0 0 0 0 0 0 0 0 0 0 0 0 0 0 0 0 0 0 0 1 0 ')\n",
    "testSetDf['shortened_sequence'] = testSetDf['shortened_sequence'].str.replace('Z','0 0 0 0 0 0 0 0 0 0 0 0 0 0 0 0 0 0 0 0 1 ')"
   ]
  },
  {
   "cell_type": "code",
   "execution_count": null,
   "metadata": {},
   "outputs": [],
   "source": [
    "# Writing non alignment test set data to file in correct format\n",
    "# File will be renamed manually to 'test.dataset' when used in experimentation\n",
    "\n",
    "file=open('nonAlignment_test.dataset','a', buffering = 4000000)\n",
    "\n",
    "for idx,row in testSetDf.iterrows(): # iterate through dataset \n",
    "    nnInputTest = str(row['id'])+ '\\n' # first line consists of protein ID\n",
    "    nnInputTest += str(row['Sequence Length'])+ '\\n' # Second line consists of protein sequence length\n",
    "    for sequence in row['shortened_sequence']: # third line consists of protein sequence\n",
    "        nnInputTest += str(sequence)\n",
    "    nnInputTest += '\\n'\n",
    "    nnInputTest += str(row['correspondingClassToAA'])+ '\\n' # final line consists of class corresponding to each amino acid in sequence    \n",
    "    nnInputTest += '\\n'\n",
    "    file.write(nnInputTest) # write to file"
   ]
  },
  {
   "cell_type": "code",
   "execution_count": null,
   "metadata": {},
   "outputs": [],
   "source": [
    "# Writing aligned test set data to file in correct format\n",
    "\n",
    "file=open('test.dataset','a', buffering = 4000000)\n",
    "\n",
    "for idx,row in testSetDf.iterrows(): # iterate through dataset \n",
    "    nnInputTest = str(row['id'])+ '\\n' # first line consists of protein ID\n",
    "    nnInputTest += str(row['Sequence Length'])+ '\\n' # Second line consists of protein sequence length\n",
    "    for sequence in row['alignment']: # third line consists of aligned protein sequence\n",
    "        nnInputTest += str(sequence)\n",
    "    nnInputTest += '\\n'\n",
    "    nnInputTest += str(row['correspondingClassToAA'])+ '\\n' # final line consists of class corresponding to each amino acid in sequence    \n",
    "    nnInputTest += '\\n'\n",
    "    file.write(nnInputTest) # write to file"
   ]
  },
  {
   "cell_type": "code",
   "execution_count": null,
   "metadata": {},
   "outputs": [],
   "source": [
    "# Extracting relevant indexes from dataframe in order to extract the corresponding class type\n",
    "# for each amino acid in the sequence - to be outputted in the resulting text file\n",
    "train_list = []\n",
    "for rows in trainSetDf.itertuples(): # iterating through rows in dataframe\n",
    "    trainSetIndexes = [rows.Updated_Indexes]\n",
    "    train_list.append(trainSetIndexes) # Adding class indexes to list\n",
    "\n",
    "# Ensuring list is in correct format\n",
    "flat_train_list = []\n",
    "for sublist in train_list:\n",
    "    for item in sublist:\n",
    "        flat_train_list.append(item)"
   ]
  },
  {
   "cell_type": "code",
   "execution_count": null,
   "metadata": {},
   "outputs": [],
   "source": [
    "# Converting elements in list from string to list\n",
    "traindf_x = [ast.literal_eval(s) for s in flat_train_list]"
   ]
  },
  {
   "cell_type": "code",
   "execution_count": null,
   "metadata": {},
   "outputs": [],
   "source": [
    "classTypeList = []\n",
    "\n",
    "for value in traindf_x: # for each value in the test list\n",
    "    classType = ''\n",
    "    for x in value: # Printing corresponding class for each amino acid in the sequence\n",
    "        classType += ((x[1] - x[0]+1) * ((x[2])+' '))\n",
    "    classTypeList.append(classType)  # Add result to list"
   ]
  },
  {
   "cell_type": "code",
   "execution_count": null,
   "metadata": {},
   "outputs": [],
   "source": [
    "# add list as column in dataframe\n",
    "trainSetDf['correspondingClassToAA'] = classTypeList"
   ]
  },
  {
   "cell_type": "code",
   "execution_count": null,
   "metadata": {},
   "outputs": [],
   "source": [
    "# Replacing class letter with corresponding class number (i.e.) 0 for order, 1 for disorder, 2 for ambiguity\n",
    "trainSetDf['correspondingClassToAA'] = trainSetDf['correspondingClassToAA'].str.replace('D','1')\n",
    "trainSetDf['correspondingClassToAA'] = trainSetDf['correspondingClassToAA'].str.replace('S','0')\n",
    "trainSetDf['correspondingClassToAA'] = trainSetDf['correspondingClassToAA'].str.replace('C','2')"
   ]
  },
  {
   "cell_type": "code",
   "execution_count": null,
   "metadata": {},
   "outputs": [],
   "source": [
    "# Replacing each letter in the protein sequence with one-hot encoding representation\n",
    "trainSetDf['shortened_sequence'] = trainSetDf['shortened_sequence'].str.replace('A','1 0 0 0 0 0 0 0 0 0 0 0 0 0 0 0 0 0 0 0 0 ')\n",
    "trainSetDf['shortened_sequence'] = trainSetDf['shortened_sequence'].str.replace('B','0 0 0 0 0 0 0 0 0 0 0 0 0 0 0 0 0 0 0 0 1 ')\n",
    "trainSetDf['shortened_sequence'] = trainSetDf['shortened_sequence'].str.replace('C','0 1 0 0 0 0 0 0 0 0 0 0 0 0 0 0 0 0 0 0 0 ')\n",
    "trainSetDf['shortened_sequence'] = trainSetDf['shortened_sequence'].str.replace('D','0 0 1 0 0 0 0 0 0 0 0 0 0 0 0 0 0 0 0 0 0 ')\n",
    "trainSetDf['shortened_sequence'] = trainSetDf['shortened_sequence'].str.replace('E','0 0 0 1 0 0 0 0 0 0 0 0 0 0 0 0 0 0 0 0 0 ')\n",
    "trainSetDf['shortened_sequence'] = trainSetDf['shortened_sequence'].str.replace('F','0 0 0 0 1 0 0 0 0 0 0 0 0 0 0 0 0 0 0 0 0 ')\n",
    "trainSetDf['shortened_sequence'] = trainSetDf['shortened_sequence'].str.replace('G','0 0 0 0 0 1 0 0 0 0 0 0 0 0 0 0 0 0 0 0 0 ')\n",
    "trainSetDf['shortened_sequence'] = trainSetDf['shortened_sequence'].str.replace('H','0 0 0 0 0 0 1 0 0 0 0 0 0 0 0 0 0 0 0 0 0 ')\n",
    "trainSetDf['shortened_sequence'] = trainSetDf['shortened_sequence'].str.replace('I','0 0 0 0 0 0 0 1 0 0 0 0 0 0 0 0 0 0 0 0 0 ')\n",
    "trainSetDf['shortened_sequence'] = trainSetDf['shortened_sequence'].str.replace('J','0 0 0 0 0 0 0 0 0 0 0 0 0 0 0 0 0 0 0 0 1 ')\n",
    "trainSetDf['shortened_sequence'] = trainSetDf['shortened_sequence'].str.replace('K','0 0 0 0 0 0 0 0 1 0 0 0 0 0 0 0 0 0 0 0 0 ')\n",
    "trainSetDf['shortened_sequence'] = trainSetDf['shortened_sequence'].str.replace('L','0 0 0 0 0 0 0 0 0 1 0 0 0 0 0 0 0 0 0 0 0 ')\n",
    "trainSetDf['shortened_sequence'] = trainSetDf['shortened_sequence'].str.replace('M','0 0 0 0 0 0 0 0 0 0 1 0 0 0 0 0 0 0 0 0 0 ')\n",
    "trainSetDf['shortened_sequence'] = trainSetDf['shortened_sequence'].str.replace('N','0 0 0 0 0 0 0 0 0 0 0 1 0 0 0 0 0 0 0 0 0 ')\n",
    "trainSetDf['shortened_sequence'] = trainSetDf['shortened_sequence'].str.replace('O','0 0 0 0 0 0 0 0 0 0 0 0 0 0 0 0 0 0 0 0 1 ')\n",
    "trainSetDf['shortened_sequence'] = trainSetDf['shortened_sequence'].str.replace('P','0 0 0 0 0 0 0 0 0 0 0 0 1 0 0 0 0 0 0 0 0 ')\n",
    "trainSetDf['shortened_sequence'] = trainSetDf['shortened_sequence'].str.replace('Q','0 0 0 0 0 0 0 0 0 0 0 0 0 1 0 0 0 0 0 0 0 ')\n",
    "trainSetDf['shortened_sequence'] = trainSetDf['shortened_sequence'].str.replace('R','0 0 0 0 0 0 0 0 0 0 0 0 0 0 1 0 0 0 0 0 0 ')\n",
    "trainSetDf['shortened_sequence'] = trainSetDf['shortened_sequence'].str.replace('S','0 0 0 0 0 0 0 0 0 0 0 0 0 0 0 1 0 0 0 0 0 ')\n",
    "trainSetDf['shortened_sequence'] = trainSetDf['shortened_sequence'].str.replace('T','0 0 0 0 0 0 0 0 0 0 0 0 0 0 0 0 1 0 0 0 0 ')\n",
    "trainSetDf['shortened_sequence'] = trainSetDf['shortened_sequence'].str.replace('U','0 0 0 0 0 0 0 0 0 0 0 0 0 0 0 0 0 0 0 0 1 ')\n",
    "trainSetDf['shortened_sequence'] = trainSetDf['shortened_sequence'].str.replace('V','0 0 0 0 0 0 0 0 0 0 0 0 0 0 0 0 0 1 0 0 0 ')\n",
    "trainSetDf['shortened_sequence'] = trainSetDf['shortened_sequence'].str.replace('W','0 0 0 0 0 0 0 0 0 0 0 0 0 0 0 0 0 0 1 0 0 ')\n",
    "trainSetDf['shortened_sequence'] = trainSetDf['shortened_sequence'].str.replace('X','0 0 0 0 0 0 0 0 0 0 0 0 0 0 0 0 0 0 0 0 1 ')\n",
    "trainSetDf['shortened_sequence'] = trainSetDf['shortened_sequence'].str.replace('Y','0 0 0 0 0 0 0 0 0 0 0 0 0 0 0 0 0 0 0 1 0 ')\n",
    "trainSetDf['shortened_sequence'] = trainSetDf['shortened_sequence'].str.replace('Z','0 0 0 0 0 0 0 0 0 0 0 0 0 0 0 0 0 0 0 0 1 ')"
   ]
  },
  {
   "cell_type": "code",
   "execution_count": null,
   "metadata": {},
   "outputs": [],
   "source": [
    "# Writing non alignment train set data to file in correct format\n",
    "# File will be renamed manually to 'train.dataset' when used in experimentation\n",
    "\n",
    "file=open('nonAlignment_train.dataset','a', buffering = 4000000)\n",
    "\n",
    "for idx,row in trainSetDf.iterrows(): # iterate through dataset\n",
    "    nnInputTrain  = str(row['id'])+ '\\n' # first line consists of protein ID\n",
    "    nnInputTrain += str(row['Sequence Length'])+ '\\n'  # Second line consists of protein sequence length\n",
    "    for sequence in row['shortened_sequence']: # third line consists of protein sequence\n",
    "        nnInputTrain += str(sequence)\n",
    "    nnInputTrain += '\\n'\n",
    "    nnInputTrain += str(row['correspondingClassToAA'])+ '\\n' # final line consists of class corresponding to each amino acid in sequence    \n",
    "    nnInputTrain += '\\n'\n",
    "    file.write(nnInputTrain) # write to file"
   ]
  },
  {
   "cell_type": "code",
   "execution_count": null,
   "metadata": {},
   "outputs": [],
   "source": [
    "# Writing alignment train set data to file in correct format\n",
    "\n",
    "file=open('train.dataset','a', buffering = 4000000)\n",
    "\n",
    "for idx,row in trainSetDf.iterrows(): # iterate through dataset\n",
    "    nnInputTrain  = str(row['id'])+ '\\n' # first line consists of protein ID\n",
    "    nnInputTrain += str(row['Sequence Length'])+ '\\n'  # Second line consists of protein sequence length\n",
    "    for product in row['alignment']: # third line consists of aligned protein sequence \n",
    "        nnInputTrain += str(product)\n",
    "    nnInputTrain += '\\n'\n",
    "    nnInputTrain += str(row['correspondingClassToAA'])+ '\\n' # final line consists of class corresponding to each amino acid in sequence    \n",
    "    nnInputTrain += '\\n'\n",
    "    file.write(nnInputTrain) # write to file"
   ]
  }
 ],
 "metadata": {
  "kernelspec": {
   "display_name": "Python 3",
   "language": "python",
   "name": "python3"
  },
  "language_info": {
   "codemirror_mode": {
    "name": "ipython",
    "version": 3
   },
   "file_extension": ".py",
   "mimetype": "text/x-python",
   "name": "python",
   "nbconvert_exporter": "python",
   "pygments_lexer": "ipython3",
   "version": "3.7.4"
  }
 },
 "nbformat": 4,
 "nbformat_minor": 2
}
